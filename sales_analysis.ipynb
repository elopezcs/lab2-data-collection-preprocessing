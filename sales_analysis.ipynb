{
 "cells": [
  {
   "cell_type": "markdown",
   "id": "4106d123",
   "metadata": {},
   "source": [
    "# Synthetic Sales Analysis\n",
    "\n",
    "This notebook processes a synthetic retail dataset and demonstrates a compact, production‑ready workflow. \n",
    "It follows a 12‑step scaffold, from loading and profiling to cleaning, feature engineering, aggregation, and serialization.\n",
    "\n",
    "**Data source**: the synthetic CSV generated earlier in this session, saved as `synthetic_sales.csv`."
   ]
  },
  {
   "cell_type": "markdown",
   "id": "51535243",
   "metadata": {},
   "source": [
    "## Environment Setup"
   ]
  },
  {
   "cell_type": "code",
   "execution_count": 1,
   "id": "4befe07d",
   "metadata": {},
   "outputs": [
    {
     "name": "stdout",
     "output_type": "stream",
     "text": [
      "Note: you may need to restart the kernel to use updated packages.\n"
     ]
    }
   ],
   "source": [
    "%pip install --quiet pandas numpy"
   ]
  },
  {
   "cell_type": "markdown",
   "id": "0aa3208f",
   "metadata": {},
   "source": [
    "## 1. Hello, Data!\n",
    "Load raw CSV, display first 3 rows."
   ]
  },
  {
   "cell_type": "code",
   "execution_count": 2,
   "id": "77f450ee",
   "metadata": {},
   "outputs": [
    {
     "name": "stdout",
     "output_type": "stream",
     "text": [
      "(600, 7)\n"
     ]
    },
    {
     "data": {
      "application/vnd.microsoft.datawrangler.viewer.v0+json": {
       "columns": [
        {
         "name": "index",
         "rawType": "int64",
         "type": "integer"
        },
        {
         "name": "date",
         "rawType": "object",
         "type": "string"
        },
        {
         "name": "customer_id",
         "rawType": "object",
         "type": "string"
        },
        {
         "name": "product",
         "rawType": "object",
         "type": "string"
        },
        {
         "name": "price",
         "rawType": "float64",
         "type": "float"
        },
        {
         "name": "quantity",
         "rawType": "int64",
         "type": "integer"
        },
        {
         "name": "coupon_code",
         "rawType": "object",
         "type": "unknown"
        },
        {
         "name": "shipping_city",
         "rawType": "object",
         "type": "string"
        }
       ],
       "ref": "c5e23b7f-8e9d-425d-93f5-3a5be48320d4",
       "rows": [
        [
         "0",
         "2024-01-01",
         "CUST8595",
         "Mouse",
         "1426.9",
         "5",
         "SAVE10",
         "Calgary"
        ],
        [
         "1",
         "2024-01-02",
         "CUST6983",
         "Tablet",
         "1773.07",
         "3",
         "FREESHIP",
         "Vancouver"
        ],
        [
         "2",
         "2024-01-02",
         "CUST3953",
         "Phone",
         "1383.29",
         "2",
         null,
         "Calgary"
        ]
       ],
       "shape": {
        "columns": 7,
        "rows": 3
       }
      },
      "text/html": [
       "<div>\n",
       "<style scoped>\n",
       "    .dataframe tbody tr th:only-of-type {\n",
       "        vertical-align: middle;\n",
       "    }\n",
       "\n",
       "    .dataframe tbody tr th {\n",
       "        vertical-align: top;\n",
       "    }\n",
       "\n",
       "    .dataframe thead th {\n",
       "        text-align: right;\n",
       "    }\n",
       "</style>\n",
       "<table border=\"1\" class=\"dataframe\">\n",
       "  <thead>\n",
       "    <tr style=\"text-align: right;\">\n",
       "      <th></th>\n",
       "      <th>date</th>\n",
       "      <th>customer_id</th>\n",
       "      <th>product</th>\n",
       "      <th>price</th>\n",
       "      <th>quantity</th>\n",
       "      <th>coupon_code</th>\n",
       "      <th>shipping_city</th>\n",
       "    </tr>\n",
       "  </thead>\n",
       "  <tbody>\n",
       "    <tr>\n",
       "      <th>0</th>\n",
       "      <td>2024-01-01</td>\n",
       "      <td>CUST8595</td>\n",
       "      <td>Mouse</td>\n",
       "      <td>1426.90</td>\n",
       "      <td>5</td>\n",
       "      <td>SAVE10</td>\n",
       "      <td>Calgary</td>\n",
       "    </tr>\n",
       "    <tr>\n",
       "      <th>1</th>\n",
       "      <td>2024-01-02</td>\n",
       "      <td>CUST6983</td>\n",
       "      <td>Tablet</td>\n",
       "      <td>1773.07</td>\n",
       "      <td>3</td>\n",
       "      <td>FREESHIP</td>\n",
       "      <td>Vancouver</td>\n",
       "    </tr>\n",
       "    <tr>\n",
       "      <th>2</th>\n",
       "      <td>2024-01-02</td>\n",
       "      <td>CUST3953</td>\n",
       "      <td>Phone</td>\n",
       "      <td>1383.29</td>\n",
       "      <td>2</td>\n",
       "      <td>NaN</td>\n",
       "      <td>Calgary</td>\n",
       "    </tr>\n",
       "  </tbody>\n",
       "</table>\n",
       "</div>"
      ],
      "text/plain": [
       "         date customer_id product    price  quantity coupon_code shipping_city\n",
       "0  2024-01-01    CUST8595   Mouse  1426.90         5      SAVE10       Calgary\n",
       "1  2024-01-02    CUST6983  Tablet  1773.07         3    FREESHIP     Vancouver\n",
       "2  2024-01-02    CUST3953   Phone  1383.29         2         NaN       Calgary"
      ]
     },
     "execution_count": 2,
     "metadata": {},
     "output_type": "execute_result"
    }
   ],
   "source": [
    "import pandas as pd\n",
    "import numpy as np\n",
    "from pathlib import Path\n",
    "\n",
    "RAW_PATH = Path('data/synthetic_sales.csv')\n",
    "assert RAW_PATH.exists(), f\"File not found: {RAW_PATH}\"\n",
    "df = pd.read_csv(RAW_PATH)\n",
    "print(df.shape)\n",
    "df.head(3)"
   ]
  },
  {
   "cell_type": "markdown",
   "id": "db942bde",
   "metadata": {},
   "source": [
    "## 2. Picking the Right Container\n",
    "Here we are using dictionaries of records, not namedtuples or sets. Dicts are mutable and explicit with keys, which is practical for JSON, schema evolution, and joins. Namedtuples are immutable and verbose to extend. Sets do not preserve field order and are not row‑oriented."
   ]
  },
  {
   "cell_type": "markdown",
   "id": "356a00ad",
   "metadata": {},
   "source": [
    "## 3. Implementing Functions and Data structure\n",
    "Create typed helpers and convert rows into a normalized record dictionary."
   ]
  },
  {
   "cell_type": "code",
   "execution_count": 3,
   "id": "9e19e790",
   "metadata": {},
   "outputs": [
    {
     "data": {
      "text/plain": [
       "[{'date': '2024-01-01',\n",
       "  'customer_id': 'CUST8595',\n",
       "  'product': 'Mouse',\n",
       "  'price': 1426.9,\n",
       "  'quantity': 5,\n",
       "  'coupon_code': 'SAVE10',\n",
       "  'shipping_city': 'Calgary'},\n",
       " {'date': '2024-01-02',\n",
       "  'customer_id': 'CUST6983',\n",
       "  'product': 'Tablet',\n",
       "  'price': 1773.07,\n",
       "  'quantity': 3,\n",
       "  'coupon_code': 'FREESHIP',\n",
       "  'shipping_city': 'Vancouver'}]"
      ]
     },
     "execution_count": 3,
     "metadata": {},
     "output_type": "execute_result"
    }
   ],
   "source": [
    "from typing import Dict, Any\n",
    "\n",
    "PRODUCT_TITLE_FIXES = {\n",
    "    'laptop': 'Laptop', 'phone': 'Phone', 'tablet': 'Tablet',\n",
    "    'headphones': 'Headphones', 'monitor': 'Monitor', 'keyboard': 'Keyboard', 'mouse': 'Mouse'\n",
    "}\n",
    "\n",
    "def normalize_product(name: str) -> str:\n",
    "    if not isinstance(name, str):\n",
    "        return 'Unknown'\n",
    "    key = name.strip().lower()\n",
    "    return PRODUCT_TITLE_FIXES.get(key, name.strip().title())\n",
    "\n",
    "def to_record(row: pd.Series) -> Dict[str, Any]:\n",
    "    return {\n",
    "        'date': row['date'],\n",
    "        'customer_id': str(row['customer_id']).strip(),\n",
    "        'product': normalize_product(row['product']),\n",
    "        'price': float(row['price']),\n",
    "        'quantity': int(row['quantity']),\n",
    "        'coupon_code': str(row['coupon_code']).strip().upper() if pd.notna(row['coupon_code']) else '',\n",
    "        'shipping_city': str(row['shipping_city']).strip().title()\n",
    "    }\n",
    "\n",
    "records = [to_record(r) for _, r in df.iterrows()]\n",
    "records[:2]"
   ]
  },
  {
   "cell_type": "markdown",
   "id": "47e0d9ef",
   "metadata": {},
   "source": [
    "## 4. Bulk Loaded\n",
    "Map DataFrame rows to a list of dictionaries in one call."
   ]
  },
  {
   "cell_type": "code",
   "execution_count": 4,
   "id": "ff8c391e",
   "metadata": {},
   "outputs": [
    {
     "data": {
      "text/plain": [
       "(600, dict)"
      ]
     },
     "execution_count": 4,
     "metadata": {},
     "output_type": "execute_result"
    }
   ],
   "source": [
    "records_bulk = df.apply(to_record, axis=1).tolist()\n",
    "len(records_bulk), type(records_bulk[0])"
   ]
  },
  {
   "cell_type": "markdown",
   "id": "aa1a96e1",
   "metadata": {},
   "source": [
    "## 5. Quick Profiling\n",
    "Compute min, mean, and max price, and the unique shipping city count."
   ]
  },
  {
   "cell_type": "code",
   "execution_count": 5,
   "id": "466af6cf",
   "metadata": {},
   "outputs": [
    {
     "name": "stdout",
     "output_type": "stream",
     "text": [
      "{'price_min': np.float64(20.07), 'price_mean': np.float64(1025.93), 'price_max': np.float64(1996.87), 'unique_cities': 8}\n"
     ]
    }
   ],
   "source": [
    "price_min = df['price'].min()\n",
    "price_mean = df['price'].mean()\n",
    "price_max = df['price'].max()\n",
    "unique_cities = len(set(df['shipping_city']))\n",
    "print({'price_min': round(price_min,2), 'price_mean': round(price_mean,2), 'price_max': round(price_max,2), 'unique_cities': unique_cities})"
   ]
  },
  {
   "cell_type": "markdown",
   "id": "c94ed195",
   "metadata": {},
   "source": [
    "## 6. Spotting the Grime\n",
    "Identify common quality issues in transactional data."
   ]
  },
  {
   "cell_type": "code",
   "execution_count": 7,
   "id": "8fa8aa20",
   "metadata": {},
   "outputs": [
    {
     "data": {
      "text/plain": [
       "{'blank_coupon_codes': 0,\n",
       " 'price_outliers_gt_p99': 6,\n",
       " 'nonstandard_product_casing': 0,\n",
       " 'non_positive_qty': 0,\n",
       " 'customer_id_spaces': 0}"
      ]
     },
     "execution_count": 7,
     "metadata": {},
     "output_type": "execute_result"
    }
   ],
   "source": [
    "# Dirty data checks\n",
    "issues = {}\n",
    "\n",
    "# 1) Missing or blank coupon codes\n",
    "issues['blank_coupon_codes'] = int((df['coupon_code'].astype(str).str.strip() == '').sum())\n",
    "\n",
    "# 2) Outlier prices beyond 99th percentile\n",
    "p99 = df['price'].quantile(0.99)\n",
    "issues['price_outliers_gt_p99'] = int((df['price'] > p99).sum())\n",
    "\n",
    "# 3) Non‑conforming product casing\n",
    "issues['nonstandard_product_casing'] = int((df['product'] != df['product'].str.title()).sum())\n",
    "\n",
    "# 4) Quantity non‑positive\n",
    "issues['non_positive_qty'] = int((df['quantity'] <= 0).sum())\n",
    "\n",
    "# 5) Leading/trailing spaces in customer_id\n",
    "issues['customer_id_spaces'] = int(df['customer_id'].astype(str).ne(df['customer_id'].astype(str).str.strip()).sum())\n",
    "\n",
    "issues"
   ]
  },
  {
   "cell_type": "markdown",
   "id": "ea96b8d2",
   "metadata": {},
   "source": [
    "## 7. Cleaning Rules\n",
    "Apply fixes inside `clean()`. Show before and after counts."
   ]
  },
  {
   "cell_type": "code",
   "execution_count": 8,
   "id": "c7633438",
   "metadata": {},
   "outputs": [
    {
     "data": {
      "text/plain": [
       "({'rows': 600, 'null_dates': 0, 'non_positive_qty': 0},\n",
       " {'rows': 600, 'null_dates': 0, 'non_positive_qty': 0})"
      ]
     },
     "execution_count": 8,
     "metadata": {},
     "output_type": "execute_result"
    }
   ],
   "source": [
    "def clean(raw: pd.DataFrame) -> pd.DataFrame:\n",
    "    dfc = raw.copy()\n",
    "    # Parse dates\n",
    "    dfc['date'] = pd.to_datetime(dfc['date'], errors='coerce')\n",
    "    # Trim and standardize\n",
    "    dfc['customer_id'] = dfc['customer_id'].astype(str).str.strip()\n",
    "    dfc['product'] = dfc['product'].apply(normalize_product)\n",
    "    dfc['coupon_code'] = dfc['coupon_code'].fillna('').astype(str).str.strip().str.upper()\n",
    "    dfc['shipping_city'] = dfc['shipping_city'].astype(str).str.strip().str.title()\n",
    "    # Types and ranges\n",
    "    dfc['price'] = pd.to_numeric(dfc['price'], errors='coerce').clip(lower=0)\n",
    "    dfc['quantity'] = pd.to_numeric(dfc['quantity'], errors='coerce').fillna(0).astype(int)\n",
    "    # Drop impossible rows: null date, non‑positive quantity\n",
    "    dfc = dfc[dfc['date'].notna()]\n",
    "    dfc = dfc[dfc['quantity'] > 0]\n",
    "    return dfc\n",
    "\n",
    "before = {\n",
    "    'rows': len(df),\n",
    "    'null_dates': int(df['date'].isna().sum()),\n",
    "    'non_positive_qty': int((df['quantity'] <= 0).sum())\n",
    "}\n",
    "df_clean = clean(df)\n",
    "after = {\n",
    "    'rows': len(df_clean),\n",
    "    'null_dates': int(df_clean['date'].isna().sum()),\n",
    "    'non_positive_qty': int((df_clean['quantity'] <= 0).sum())\n",
    "}\n",
    "before, after"
   ]
  },
  {
   "cell_type": "markdown",
   "id": "1c35bf92",
   "metadata": {},
   "source": [
    "## 8. Transformations\n",
    "Parse `coupon_code` into a numeric discount."
   ]
  },
  {
   "cell_type": "code",
   "execution_count": 9,
   "id": "93d6a2f8",
   "metadata": {},
   "outputs": [
    {
     "data": {
      "application/vnd.microsoft.datawrangler.viewer.v0+json": {
       "columns": [
        {
         "name": "index",
         "rawType": "int64",
         "type": "integer"
        },
        {
         "name": "coupon_code",
         "rawType": "object",
         "type": "string"
        },
        {
         "name": "discount_rate",
         "rawType": "float64",
         "type": "float"
        }
       ],
       "ref": "0fb470ea-be0e-40ae-9e1a-a6ebdfc00eb5",
       "rows": [
        [
         "0",
         "SAVE10",
         "0.1"
        ],
        [
         "1",
         "FREESHIP",
         "0.0"
        ],
        [
         "2",
         "",
         "0.0"
        ],
        [
         "3",
         "",
         "0.0"
        ],
        [
         "4",
         "",
         "0.0"
        ],
        [
         "5",
         "WELCOME",
         "0.05"
        ],
        [
         "6",
         "FREESHIP",
         "0.0"
        ],
        [
         "7",
         "WELCOME",
         "0.05"
        ],
        [
         "8",
         "FREESHIP",
         "0.0"
        ],
        [
         "9",
         "",
         "0.0"
        ]
       ],
       "shape": {
        "columns": 2,
        "rows": 10
       }
      },
      "text/html": [
       "<div>\n",
       "<style scoped>\n",
       "    .dataframe tbody tr th:only-of-type {\n",
       "        vertical-align: middle;\n",
       "    }\n",
       "\n",
       "    .dataframe tbody tr th {\n",
       "        vertical-align: top;\n",
       "    }\n",
       "\n",
       "    .dataframe thead th {\n",
       "        text-align: right;\n",
       "    }\n",
       "</style>\n",
       "<table border=\"1\" class=\"dataframe\">\n",
       "  <thead>\n",
       "    <tr style=\"text-align: right;\">\n",
       "      <th></th>\n",
       "      <th>coupon_code</th>\n",
       "      <th>discount_rate</th>\n",
       "    </tr>\n",
       "  </thead>\n",
       "  <tbody>\n",
       "    <tr>\n",
       "      <th>0</th>\n",
       "      <td>SAVE10</td>\n",
       "      <td>0.10</td>\n",
       "    </tr>\n",
       "    <tr>\n",
       "      <th>1</th>\n",
       "      <td>FREESHIP</td>\n",
       "      <td>0.00</td>\n",
       "    </tr>\n",
       "    <tr>\n",
       "      <th>2</th>\n",
       "      <td></td>\n",
       "      <td>0.00</td>\n",
       "    </tr>\n",
       "    <tr>\n",
       "      <th>3</th>\n",
       "      <td></td>\n",
       "      <td>0.00</td>\n",
       "    </tr>\n",
       "    <tr>\n",
       "      <th>4</th>\n",
       "      <td></td>\n",
       "      <td>0.00</td>\n",
       "    </tr>\n",
       "    <tr>\n",
       "      <th>5</th>\n",
       "      <td>WELCOME</td>\n",
       "      <td>0.05</td>\n",
       "    </tr>\n",
       "    <tr>\n",
       "      <th>6</th>\n",
       "      <td>FREESHIP</td>\n",
       "      <td>0.00</td>\n",
       "    </tr>\n",
       "    <tr>\n",
       "      <th>7</th>\n",
       "      <td>WELCOME</td>\n",
       "      <td>0.05</td>\n",
       "    </tr>\n",
       "    <tr>\n",
       "      <th>8</th>\n",
       "      <td>FREESHIP</td>\n",
       "      <td>0.00</td>\n",
       "    </tr>\n",
       "    <tr>\n",
       "      <th>9</th>\n",
       "      <td></td>\n",
       "      <td>0.00</td>\n",
       "    </tr>\n",
       "  </tbody>\n",
       "</table>\n",
       "</div>"
      ],
      "text/plain": [
       "  coupon_code  discount_rate\n",
       "0      SAVE10           0.10\n",
       "1    FREESHIP           0.00\n",
       "2                       0.00\n",
       "3                       0.00\n",
       "4                       0.00\n",
       "5     WELCOME           0.05\n",
       "6    FREESHIP           0.00\n",
       "7     WELCOME           0.05\n",
       "8    FREESHIP           0.00\n",
       "9                       0.00"
      ]
     },
     "execution_count": 9,
     "metadata": {},
     "output_type": "execute_result"
    }
   ],
   "source": [
    "DISCOUNT_MAP = {\n",
    "    'SAVE10': 0.10,\n",
    "    'WELCOME': 0.05,\n",
    "    'FREESHIP': 0.00  # free shipping assumed, price unchanged\n",
    "}\n",
    "df_clean['discount_rate'] = df_clean['coupon_code'].map(DISCOUNT_MAP).fillna(0.0)\n",
    "df_clean[['coupon_code','discount_rate']].head(10)"
   ]
  },
  {
   "cell_type": "markdown",
   "id": "3606c1d6",
   "metadata": {},
   "source": [
    "## 9. Feature Engineering\n",
    "Add `days_since_purchase` and `net_revenue`."
   ]
  },
  {
   "cell_type": "code",
   "execution_count": null,
   "id": "bdd67399",
   "metadata": {},
   "outputs": [],
   "source": [
    "\n",
    "\n",
    "# today = pd.Timestamp.utcnow().normalize()\n",
    "# df_clean['days_since_purchase'] = (today - datetime. df_clean['date']).dt.days\n",
    "# df_clean['gross_revenue'] = df_clean['price'] * df_clean['quantity']\n",
    "# df_clean['net_revenue'] = df_clean['gross_revenue'] * (1 - df_clean['discount_rate'])\n",
    "# df_clean[['date','price','quantity','discount_rate','net_revenue','days_since_purchase']].head(5)"
   ]
  },
  {
   "cell_type": "code",
   "execution_count": 11,
   "id": "eb83ae50",
   "metadata": {},
   "outputs": [
    {
     "data": {
      "application/vnd.microsoft.datawrangler.viewer.v0+json": {
       "columns": [
        {
         "name": "index",
         "rawType": "int64",
         "type": "integer"
        },
        {
         "name": "date",
         "rawType": "datetime64[ns, UTC]",
         "type": "unknown"
        },
        {
         "name": "price",
         "rawType": "float64",
         "type": "float"
        },
        {
         "name": "quantity",
         "rawType": "int64",
         "type": "integer"
        },
        {
         "name": "discount_rate",
         "rawType": "float64",
         "type": "float"
        },
        {
         "name": "net_revenue",
         "rawType": "float64",
         "type": "float"
        },
        {
         "name": "days_since_purchase",
         "rawType": "int64",
         "type": "integer"
        }
       ],
       "ref": "7490abd1-0edd-4c86-a9ba-954a51e18c67",
       "rows": [
        [
         "0",
         "2024-01-01 00:00:00+00:00",
         "1426.9",
         "5",
         "0.1",
         "6421.05",
         "638"
        ],
        [
         "1",
         "2024-01-02 00:00:00+00:00",
         "1773.07",
         "3",
         "0.0",
         "5319.21",
         "637"
        ],
        [
         "2",
         "2024-01-02 00:00:00+00:00",
         "1383.29",
         "2",
         "0.0",
         "2766.58",
         "637"
        ],
        [
         "3",
         "2024-01-03 00:00:00+00:00",
         "1642.07",
         "2",
         "0.0",
         "3284.14",
         "636"
        ],
        [
         "4",
         "2024-01-04 00:00:00+00:00",
         "1733.49",
         "5",
         "0.0",
         "8667.45",
         "635"
        ]
       ],
       "shape": {
        "columns": 6,
        "rows": 5
       }
      },
      "text/html": [
       "<div>\n",
       "<style scoped>\n",
       "    .dataframe tbody tr th:only-of-type {\n",
       "        vertical-align: middle;\n",
       "    }\n",
       "\n",
       "    .dataframe tbody tr th {\n",
       "        vertical-align: top;\n",
       "    }\n",
       "\n",
       "    .dataframe thead th {\n",
       "        text-align: right;\n",
       "    }\n",
       "</style>\n",
       "<table border=\"1\" class=\"dataframe\">\n",
       "  <thead>\n",
       "    <tr style=\"text-align: right;\">\n",
       "      <th></th>\n",
       "      <th>date</th>\n",
       "      <th>price</th>\n",
       "      <th>quantity</th>\n",
       "      <th>discount_rate</th>\n",
       "      <th>net_revenue</th>\n",
       "      <th>days_since_purchase</th>\n",
       "    </tr>\n",
       "  </thead>\n",
       "  <tbody>\n",
       "    <tr>\n",
       "      <th>0</th>\n",
       "      <td>2024-01-01 00:00:00+00:00</td>\n",
       "      <td>1426.90</td>\n",
       "      <td>5</td>\n",
       "      <td>0.1</td>\n",
       "      <td>6421.05</td>\n",
       "      <td>638</td>\n",
       "    </tr>\n",
       "    <tr>\n",
       "      <th>1</th>\n",
       "      <td>2024-01-02 00:00:00+00:00</td>\n",
       "      <td>1773.07</td>\n",
       "      <td>3</td>\n",
       "      <td>0.0</td>\n",
       "      <td>5319.21</td>\n",
       "      <td>637</td>\n",
       "    </tr>\n",
       "    <tr>\n",
       "      <th>2</th>\n",
       "      <td>2024-01-02 00:00:00+00:00</td>\n",
       "      <td>1383.29</td>\n",
       "      <td>2</td>\n",
       "      <td>0.0</td>\n",
       "      <td>2766.58</td>\n",
       "      <td>637</td>\n",
       "    </tr>\n",
       "    <tr>\n",
       "      <th>3</th>\n",
       "      <td>2024-01-03 00:00:00+00:00</td>\n",
       "      <td>1642.07</td>\n",
       "      <td>2</td>\n",
       "      <td>0.0</td>\n",
       "      <td>3284.14</td>\n",
       "      <td>636</td>\n",
       "    </tr>\n",
       "    <tr>\n",
       "      <th>4</th>\n",
       "      <td>2024-01-04 00:00:00+00:00</td>\n",
       "      <td>1733.49</td>\n",
       "      <td>5</td>\n",
       "      <td>0.0</td>\n",
       "      <td>8667.45</td>\n",
       "      <td>635</td>\n",
       "    </tr>\n",
       "  </tbody>\n",
       "</table>\n",
       "</div>"
      ],
      "text/plain": [
       "                       date    price  quantity  discount_rate  net_revenue  \\\n",
       "0 2024-01-01 00:00:00+00:00  1426.90         5            0.1      6421.05   \n",
       "1 2024-01-02 00:00:00+00:00  1773.07         3            0.0      5319.21   \n",
       "2 2024-01-02 00:00:00+00:00  1383.29         2            0.0      2766.58   \n",
       "3 2024-01-03 00:00:00+00:00  1642.07         2            0.0      3284.14   \n",
       "4 2024-01-04 00:00:00+00:00  1733.49         5            0.0      8667.45   \n",
       "\n",
       "   days_since_purchase  \n",
       "0                  638  \n",
       "1                  637  \n",
       "2                  637  \n",
       "3                  636  \n",
       "4                  635  "
      ]
     },
     "execution_count": 11,
     "metadata": {},
     "output_type": "execute_result"
    }
   ],
   "source": [
    "# 1) Ensure 'date' is datetime with UTC timezone\n",
    "df_clean['date'] = pd.to_datetime(df_clean['date'], utc=True)\n",
    "\n",
    "# 2) Today at midnight UTC\n",
    "today = pd.Timestamp.now(tz='UTC').normalize()\n",
    "\n",
    "# 3) Safe numeric casts\n",
    "for col in ['price', 'quantity', 'discount_rate']:\n",
    "    df_clean[col] = pd.to_numeric(df_clean[col], errors='coerce')\n",
    "\n",
    "# If discount rates come as 10, 15, etc., convert to fractions\n",
    "pct_mask = df_clean['discount_rate'] > 1\n",
    "df_clean.loc[pct_mask, 'discount_rate'] = df_clean.loc[pct_mask, 'discount_rate'] / 100.0\n",
    "\n",
    "# 4) Compute fields\n",
    "df_clean['days_since_purchase'] = (today - df_clean['date']).dt.days\n",
    "df_clean['gross_revenue'] = df_clean['price'] * df_clean['quantity']\n",
    "df_clean['net_revenue'] = df_clean['gross_revenue'] * (1 - df_clean['discount_rate'])\n",
    "\n",
    "# 5) Preview\n",
    "df_clean[['date','price','quantity','discount_rate','net_revenue','days_since_purchase']].head(5)\n"
   ]
  },
  {
   "cell_type": "markdown",
   "id": "d8aab923",
   "metadata": {},
   "source": [
    "## 10. Mini‑Aggregation\n",
    "Revenue per `shipping_city`."
   ]
  },
  {
   "cell_type": "code",
   "execution_count": 12,
   "id": "aff48098",
   "metadata": {},
   "outputs": [
    {
     "data": {
      "text/plain": [
       "(shipping_city\n",
       " Winnipeg     270542.9300\n",
       " Calgary      257509.4715\n",
       " Vancouver    252795.7175\n",
       " Ottawa       250271.1010\n",
       " Montreal     213205.0335\n",
       " Edmonton     194076.3665\n",
       " Halifax      181335.2670\n",
       " Toronto      178796.7695\n",
       " Name: net_revenue, dtype: float64,\n",
       " {'Winnipeg': 270542.93,\n",
       "  'Calgary': 257509.47,\n",
       "  'Vancouver': 252795.72,\n",
       "  'Ottawa': 250271.1,\n",
       "  'Montreal': 213205.03,\n",
       "  'Edmonton': 194076.37,\n",
       "  'Halifax': 181335.27,\n",
       "  'Toronto': 178796.77})"
      ]
     },
     "execution_count": 12,
     "metadata": {},
     "output_type": "execute_result"
    }
   ],
   "source": [
    "city_rev = df_clean.groupby('shipping_city')['net_revenue'].sum().sort_values(ascending=False)\n",
    "city_rev_dict = city_rev.round(2).to_dict()\n",
    "city_rev.head(10), city_rev_dict"
   ]
  },
  {
   "cell_type": "markdown",
   "id": "9bb469b2",
   "metadata": {},
   "source": [
    "## 11. Serialization Checkpoint\n",
    "Save cleaned data to JSON."
   ]
  },
  {
   "cell_type": "code",
   "execution_count": 14,
   "id": "968289ee",
   "metadata": {},
   "outputs": [
    {
     "data": {
      "text/plain": [
       "'data\\\\cleaned_sales.json'"
      ]
     },
     "execution_count": 14,
     "metadata": {},
     "output_type": "execute_result"
    }
   ],
   "source": [
    "from pathlib import Path\n",
    "OUT_JSON = Path('data/cleaned_sales.json')\n",
    "df_clean.to_json(OUT_JSON, orient='records', lines=False)\n",
    "str(OUT_JSON)"
   ]
  }
 ],
 "metadata": {
  "kernelspec": {
   "display_name": ".venv",
   "language": "python",
   "name": "python3"
  },
  "language_info": {
   "codemirror_mode": {
    "name": "ipython",
    "version": 3
   },
   "file_extension": ".py",
   "mimetype": "text/x-python",
   "name": "python",
   "nbconvert_exporter": "python",
   "pygments_lexer": "ipython3",
   "version": "3.12.5"
  }
 },
 "nbformat": 4,
 "nbformat_minor": 5
}
